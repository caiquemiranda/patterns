{
  "nbformat": 4,
  "nbformat_minor": 0,
  "metadata": {
    "colab": {
      "name": "aula_pytorch.ipynb",
      "provenance": [],
      "collapsed_sections": [],
      "include_colab_link": true
    },
    "kernelspec": {
      "name": "python3",
      "display_name": "Python 3"
    }
  },
  "cells": [
    {
      "cell_type": "markdown",
      "metadata": {
        "id": "view-in-github",
        "colab_type": "text"
      },
      "source": [
        "<a href=\"https://colab.research.google.com/github/caiquemiranda/patterns/blob/main/aula_pytorch.ipynb\" target=\"_parent\"><img src=\"https://colab.research.google.com/assets/colab-badge.svg\" alt=\"Open In Colab\"/></a>"
      ]
    },
    {
      "cell_type": "code",
      "source": [
        "url = 'https://anaconda.org/conda-forge/libta-lib/0.4.0/download/linux-64/libta-lib-0.4.0-h516909a_0.tar.bz2'\n",
        "!curl -L $url | tar xj -C /usr/lib/x86_64-linux-gnu/ lib --strip-components=1\n",
        "url = 'https://anaconda.org/conda-forge/ta-lib/0.4.19/download/linux-64/ta-lib-0.4.19-py37ha21ca33_2.tar.bz2'\n",
        "!curl -L $url | tar xj -C /usr/local/lib/python3.7/dist-packages/ lib/python3.7/site-packages/talib --strip-components=3"
      ],
      "metadata": {
        "id": "ERFwdDENsFMr",
        "colab": {
          "base_uri": "https://localhost:8080/"
        },
        "outputId": "b9a6d7bc-3e74-43d2-d1f4-9971561cbab1"
      },
      "execution_count": 3,
      "outputs": [
        {
          "output_type": "stream",
          "name": "stdout",
          "text": [
            "  % Total    % Received % Xferd  Average Speed   Time    Time     Time  Current\n",
            "                                 Dload  Upload   Total   Spent    Left  Speed\n",
            "100  4019    0  4019    0     0  16076      0 --:--:-- --:--:-- --:--:-- 16076\n",
            "100  503k  100  503k    0     0   797k      0 --:--:-- --:--:-- --:--:--  797k\n",
            "  % Total    % Received % Xferd  Average Speed   Time    Time     Time  Current\n",
            "                                 Dload  Upload   Total   Spent    Left  Speed\n",
            "100  4027    0  4027    0     0  17818      0 --:--:-- --:--:-- --:--:-- 17818\n",
            "100  406k  100  406k    0     0   661k      0 --:--:-- --:--:-- --:--:--  661k\n"
          ]
        }
      ]
    },
    {
      "cell_type": "code",
      "source": [
        "import talib\n",
        "import numpy\n",
        "c = numpy.random.randn(100)\n",
        "c"
      ],
      "metadata": {
        "colab": {
          "base_uri": "https://localhost:8080/"
        },
        "id": "nmUmHBOfsfLq",
        "outputId": "1a2db6c5-4fe5-4e4f-c9c6-f3c873d5580b"
      },
      "execution_count": 5,
      "outputs": [
        {
          "output_type": "execute_result",
          "data": {
            "text/plain": [
              "array([ 1.45833002, -0.2182458 ,  1.12176162, -0.09474947,  2.48233603,\n",
              "       -0.63199869, -0.72273313,  1.02072883,  0.15441357,  0.09581278,\n",
              "       -0.55002811,  0.67914908, -1.3288569 , -0.37472553, -1.510057  ,\n",
              "       -1.14917215,  0.20754921,  0.28739542,  1.92936651, -0.6796358 ,\n",
              "       -0.36955787, -0.99660139, -0.61559667,  3.04442175,  1.66341607,\n",
              "       -0.35956959, -0.50477624, -0.86675544, -0.23337744, -0.95919852,\n",
              "        1.32128319, -0.21979925,  0.88800902, -0.30312757,  1.15782432,\n",
              "       -0.65227172,  1.35913214,  0.18721886, -0.38116713,  2.88052295,\n",
              "        0.94167863, -0.6319883 ,  0.37023292,  0.7121261 ,  1.99362959,\n",
              "        0.35920635,  1.66171677,  0.65865531,  0.42927868,  1.41750758,\n",
              "        0.22223589, -0.17341345,  0.76070899, -0.23988419,  0.10717187,\n",
              "        0.77723883, -0.81441763,  0.72786028, -1.62820207, -0.03998435,\n",
              "        0.84744178,  0.3875533 , -0.20945429, -1.68040703,  0.03279828,\n",
              "        0.40781869,  0.84552913, -1.69757911,  1.0113322 , -1.6830575 ,\n",
              "        0.37629105,  0.04693923, -1.72720162,  0.04179445,  0.28012064,\n",
              "       -0.4152606 ,  0.37594137,  1.42957687,  0.49550931,  2.81751048,\n",
              "       -0.04886856, -0.82977435,  0.39641232,  1.76117775,  0.84042781,\n",
              "        0.73010135, -0.3256815 , -0.20494369, -0.68546525, -0.84743618,\n",
              "       -0.50137524, -0.19622393, -0.16418581, -0.36829364,  0.63440931,\n",
              "       -0.45656651, -1.09205109, -1.20367797, -0.10548686,  0.21336096])"
            ]
          },
          "metadata": {},
          "execution_count": 5
        }
      ]
    },
    {
      "cell_type": "code",
      "source": [
        "k, d = talib.STOCHRSI(c)"
      ],
      "metadata": {
        "id": "ExwwA6oJtSei"
      },
      "execution_count": 6,
      "outputs": []
    },
    {
      "cell_type": "code",
      "source": [
        "rsi = talib.RSI(c)\n",
        "k, d = talib.STOCHF(rsi, rsi, rsi)"
      ],
      "metadata": {
        "id": "NV0y7C7rtWFS"
      },
      "execution_count": 7,
      "outputs": []
    },
    {
      "cell_type": "code",
      "source": [
        "rsi = talib.RSI(c)\n",
        "k, d = talib.STOCH(rsi, rsi, rsi)"
      ],
      "metadata": {
        "id": "baaLWU0JtaMt"
      },
      "execution_count": 8,
      "outputs": []
    },
    {
      "cell_type": "markdown",
      "metadata": {
        "id": "t5zKWjk1S5rB"
      },
      "source": [
        "# Aula sobre Pytorch - IFTM"
      ]
    },
    {
      "cell_type": "code",
      "metadata": {
        "id": "tFU4UU3cS2jp"
      },
      "source": [
        "x = 4\n",
        "print(x)"
      ],
      "execution_count": null,
      "outputs": []
    },
    {
      "cell_type": "code",
      "metadata": {
        "id": "SgVsL4heTLzE"
      },
      "source": [
        "import torch"
      ],
      "execution_count": null,
      "outputs": []
    },
    {
      "cell_type": "code",
      "metadata": {
        "id": "iHUzaNT8TYYl"
      },
      "source": [
        "x = torch.rand(5,5)\n",
        "print(x)"
      ],
      "execution_count": null,
      "outputs": []
    },
    {
      "cell_type": "code",
      "metadata": {
        "id": "4T2Tv020T7LN"
      },
      "source": [
        "class Net(torch.nn.Module):\n",
        "    def __init__(self, input_size, hidden_size):\n",
        "        super(Net, self).__init__()\n",
        "        self.input_size = input_size\n",
        "        self.hidden_size = hidden_size\n",
        "        self.fc1 = torch.nn.Linear(self.input_size, self.hidden_size)\n",
        "        self.relu = torch.nn.ReLU()\n",
        "        self.fc2 = torch.nn.Linear(self.hidden_size, 1)\n",
        "        self.sigmoid = torch.nn.Sigmoid() \n",
        "    def forward(self, x):\n",
        "        hidden = self.fc1(x)\n",
        "        relu = self.relu(hidden)\n",
        "        output = self.fc2(relu)\n",
        "        output = self.sigmoid(output)\n",
        "        return output"
      ],
      "execution_count": null,
      "outputs": []
    },
    {
      "cell_type": "code",
      "metadata": {
        "id": "CqN8BqTfWHp-"
      },
      "source": [
        "from sklearn import datasets"
      ],
      "execution_count": null,
      "outputs": []
    },
    {
      "cell_type": "code",
      "metadata": {
        "id": "huE_WposXGhs"
      },
      "source": [
        "iris = datasets.load_iris()\n",
        "print(iris)"
      ],
      "execution_count": null,
      "outputs": []
    },
    {
      "cell_type": "code",
      "metadata": {
        "id": "QY8eQ6CKXpNk"
      },
      "source": [
        "dados = iris.data\n",
        "classes = iris.target\n",
        "nomes_classes = iris.target_names\n",
        "print(dados)\n",
        "print(classes)"
      ],
      "execution_count": null,
      "outputs": []
    },
    {
      "cell_type": "code",
      "metadata": {
        "id": "q2gJJLaTX2-T"
      },
      "source": [
        "from sklearn.utils import shuffle\n",
        "x = dados[0:100, :] #\n",
        "y = classes[0:100]\n",
        "print(x)\n",
        "print(y)\n",
        "x, y = shuffle(x, y)\n",
        "print(x)\n",
        "print(y)\n"
      ],
      "execution_count": null,
      "outputs": []
    },
    {
      "cell_type": "code",
      "metadata": {
        "id": "txMm5Jj4Y8Y9"
      },
      "source": [
        "print(type(x))\n",
        "print(type(y))"
      ],
      "execution_count": null,
      "outputs": []
    },
    {
      "cell_type": "code",
      "metadata": {
        "id": "gESTFTrhZFEj"
      },
      "source": [
        "training_input = torch.FloatTensor(x[0:80, :]) / 10\n",
        "training_output = torch.FloatTensor(y[0:80])\n",
        "test_input = torch.FloatTensor(x[80:100, :]) / 10\n",
        "test_output = torch.FloatTensor(y[80:100])\n",
        "print(test_output.size())\n",
        "print(test_input.size())"
      ],
      "execution_count": null,
      "outputs": []
    },
    {
      "cell_type": "code",
      "metadata": {
        "id": "g-DYBYOvZ9AM"
      },
      "source": [
        "#Definindo o modelo\n",
        "input_size = training_input.size()[1]\n",
        "hidden_size = 5\n",
        "model = Net(input_size, hidden_size)\n",
        "#print(model)\n",
        "for param in model.parameters():\n",
        "  #print(param)\n",
        "  pass"
      ],
      "execution_count": null,
      "outputs": []
    },
    {
      "cell_type": "code",
      "metadata": {
        "id": "NwA1c4cybIk0"
      },
      "source": [
        "#Preparando o treinamento\n",
        "criterion = torch.nn.MSELoss() #Mean Square Error Loss (saida_real - saida_prevista)^2\n",
        "optimizer = torch.optim.SGD(model.parameters(), lr=0.1)\n",
        "\n",
        "#Avaliar o erro inicial da rede\n",
        "model.eval() # roda a rede mas sem atualizar os pesos\n",
        "y_pred = model(test_input)\n",
        "before_train = criterion(y_pred.squeeze(), test_output)\n",
        "#[100,] --> [100]\n",
        "print(f'Erro antes do treinamento: {before_train.item()}')"
      ],
      "execution_count": null,
      "outputs": []
    },
    {
      "cell_type": "code",
      "metadata": {
        "id": "_wUjyAdzc6nE"
      },
      "source": [
        "#Treinamento da rede\n",
        "model.train()\n",
        "epochs = 10000\n",
        "errors = []\n",
        "for epoch in range(epochs):\n",
        "  optimizer.zero_grad()\n",
        "  #fazer o forward da minha rede\n",
        "  y_pred = model(training_input)\n",
        "  #calcula o erro desse treinamento\n",
        "  loss = criterion(y_pred.squeeze(), training_output)\n",
        "  errors.append(loss.item())\n",
        "  if epoch % 100 == 0:\n",
        "    print(f'Epoch: {epoch}. Train loss: {loss.item()}')\n",
        "  #backpropagation\n",
        "  loss.backward()\n",
        "  optimizer.step()"
      ],
      "execution_count": null,
      "outputs": []
    },
    {
      "cell_type": "code",
      "metadata": {
        "id": "Tu_Hshj0eBHr"
      },
      "source": [
        "#Avaliar o erro pós treinamento da rede\n",
        "model.eval() # roda a rede mas sem atualizar os pesos\n",
        "y_pred = model(test_input)\n",
        "after_train = criterion(y_pred.squeeze(), test_output)\n",
        "print(f'Erro pós-treinamento: {after_train.item()}')"
      ],
      "execution_count": null,
      "outputs": []
    },
    {
      "cell_type": "code",
      "metadata": {
        "id": "586sw2OneQTw"
      },
      "source": [
        "import matplotlib.pyplot as plt\n",
        "import numpy as np"
      ],
      "execution_count": null,
      "outputs": []
    },
    {
      "cell_type": "code",
      "metadata": {
        "id": "OyTXCHuRecC5",
        "colab": {
          "base_uri": "https://localhost:8080/",
          "height": 350
        },
        "outputId": "80dd25fa-7360-4a08-ad68-c68df39c7567"
      },
      "source": [
        "def plotcharts(errors):\n",
        "    errors = np.array(errors)\n",
        "    plt.figure(figsize=(12, 5))\n",
        "    graf02 = plt.subplot(1, 2, 1) # nrows, ncols, index\n",
        "    graf02.set_title('Errors')\n",
        "    plt.plot(errors, '-')\n",
        "    plt.xlabel('Epochs')\n",
        "    graf03 = plt.subplot(1, 2, 2)\n",
        "    graf03.set_title('Tests')\n",
        "    a = plt.plot(test_output.numpy(), 'yo', label='Real')\n",
        "    plt.setp(a, markersize=10)\n",
        "    a = plt.plot(y_pred.detach().numpy(), 'b+', label='Predicted')\n",
        "    plt.setp(a, markersize=10)\n",
        "    plt.legend(loc=7)\n",
        "    plt.show()\n",
        "plotcharts(errors)"
      ],
      "execution_count": null,
      "outputs": [
        {
          "output_type": "display_data",
          "data": {
            "image/png": "[encoded data removed]",
            "text/plain": [
              "<Figure size 864x360 with 2 Axes>"
            ]
          },
          "metadata": {
            "tags": [],
            "needs_background": "light"
          }
        }
      ]
    },
    {
      "cell_type": "code",
      "metadata": {
        "id": "f5DJkLsthh96"
      },
      "source": [
        "#Lista de atividades\n",
        "#1) Treinar a rede para classicar as três classes da Iris.\n",
        "#2) Ou usar a função de ativação TanH (-1 até o 1) setosa (-1), virginica (0), versicolor(1)\n",
        "#3) Separar 80% dos valores para treinamento e 20% dos valores para fazer os testes.\n"
      ],
      "execution_count": null,
      "outputs": []
    }
  ]
}