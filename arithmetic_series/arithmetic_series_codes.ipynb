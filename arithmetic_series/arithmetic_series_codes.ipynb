{
 "cells": [
  {
   "cell_type": "markdown",
   "metadata": {},
   "source": [
    "### Python Example\n",
    "\n",
    "> Python code\n",
    "\n",
    "```python\n",
    "\n",
    "n = 5     #size\n",
    "d = 3     #difference\n",
    "a = 1     #term\n",
    "\n",
    "for i in range(1, n+1):\n",
    "    print(\" \" + str(a), end=\"\")\n",
    "    a = a + d\n",
    "\n",
    "```"
   ]
  },
  {
   "cell_type": "markdown",
   "metadata": {},
   "source": [
    "> output\n",
    "\n",
    "1 4 7 10 13"
   ]
  },
  {
   "cell_type": "markdown",
   "metadata": {},
   "source": [
    "### C++ Example\n",
    "\n",
    "> Cpp code\n",
    "\n",
    "```cpp\n",
    "int main() {\n",
    "  int y = SOME_MACRO_REFERENCE;\n",
    "  int x = 5 + 6;\n",
    "  cout << \"Hello World! \" << x << std::endl();\n",
    "}\n",
    "```\n",
    "> output\n",
    "\n"
   ]
  },
  {
   "cell_type": "markdown",
   "metadata": {},
   "source": [
    "### Java Example\n",
    "\n",
    "> Java code\n",
    "\n",
    "```java\n",
    "public class Main {\n",
    "  public static void main(String[] args) {\n",
    "    System.out.println(\"Hello World\");\n",
    "  }\n",
    "\n",
    "}\n",
    "```\n",
    "\n",
    "> output\n"
   ]
  }
 ],
 "metadata": {
  "kernelspec": {
   "display_name": "Python 3.10.5 64-bit (system)",
   "language": "python",
   "name": "python3"
  },
  "language_info": {
   "codemirror_mode": {
    "name": "ipython",
    "version": 3
   },
   "file_extension": ".py",
   "mimetype": "text/x-python",
   "name": "python",
   "nbconvert_exporter": "python",
   "pygments_lexer": "ipython3",
   "version": "3.10.5"
  },
  "orig_nbformat": 4,
  "vscode": {
   "interpreter": {
    "hash": "74af3d2f25f1e46ebd2903d59225d79e4675ec224d56c01fc30cd168c2010d53"
   }
  }
 },
 "nbformat": 4,
 "nbformat_minor": 2
}
